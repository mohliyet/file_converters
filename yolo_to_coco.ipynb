{
 "cells": [
  {
   "cell_type": "code",
   "execution_count": 14,
   "metadata": {},
   "outputs": [
    {
     "name": "stdout",
     "output_type": "stream",
     "text": [
      "Object Counts by ID:\n",
      "Class ID 0: 1766 objects\n",
      "Class ID 1: 904 objects\n",
      "Class ID 2: 760 objects\n",
      "Class ID 3: 143 objects\n"
     ]
    }
   ],
   "source": [
    "import os\n",
    "\n",
    "# Function to count objects by ID in YOLO annotations\n",
    "def count_objects_by_id(yolo_annotations_dir):\n",
    "    object_count = {}\n",
    "\n",
    "    # Read each YOLO annotation file\n",
    "    for filename in os.listdir(yolo_annotations_dir):\n",
    "        if filename.endswith(\".txt\"):\n",
    "            with open(os.path.join(yolo_annotations_dir, filename), 'r') as file:\n",
    "                lines = file.readlines()\n",
    "\n",
    "                for line in lines:\n",
    "                    class_id = int(line.strip().split()[0])\n",
    "\n",
    "                    if class_id in object_count:\n",
    "                        object_count[class_id] += 1\n",
    "                    else:\n",
    "                        object_count[class_id] = 1\n",
    "\n",
    "    return object_count\n",
    "\n",
    "# Example usage:\n",
    "yolo_annotations_dir = r\"C:\\Users\\M\\OneDrive - UGent\\TWML\\datasets\\sthsch_old\\Curated_Old_STHSCH\\valid_\\labels\"\n",
    "\n",
    "object_counts = count_objects_by_id(yolo_annotations_dir)\n",
    "print(\"Object Counts by ID:\")\n",
    "for class_id, count in object_counts.items():\n",
    "    print(f\"Class ID {class_id}: {count} objects\")\n"
   ]
  },
  {
   "cell_type": "code",
   "execution_count": 8,
   "metadata": {},
   "outputs": [],
   "source": [
    "import os\n",
    "import json\n",
    "import numpy as np\n",
    "from PIL import Image\n",
    "\n",
    "# Function to get image dimensions\n",
    "def get_image_dimensions(image_path):\n",
    "    with Image.open(image_path) as img:\n",
    "        width, height = img.size\n",
    "    return width, height\n",
    "\n",
    "# Function to convert YOLO annotations to COCO format\n",
    "def convert_yolo_to_coco(yolo_annotations_dir, images_dir, output_json_path, categories):\n",
    "    images = []\n",
    "    annotations = []\n",
    "\n",
    "    image_id = 0\n",
    "    annotation_id = 0\n",
    "\n",
    "    # Read each YOLO annotation file\n",
    "    for filename in os.listdir(yolo_annotations_dir):\n",
    "        if filename.endswith(\".txt\"):\n",
    "            image_id += 1\n",
    "            image_filename = filename[:-4] + '.jpeg'\n",
    "            image_path = os.path.join(images_dir, image_filename)\n",
    "            \n",
    "            # Get image dimensions\n",
    "            width, height = get_image_dimensions(image_path)\n",
    "            \n",
    "            image_info = {'id': image_id, 'file_name': image_filename, 'width': width, 'height': height}\n",
    "\n",
    "            images.append(image_info)\n",
    "\n",
    "            with open(os.path.join(yolo_annotations_dir, filename), 'r') as file:\n",
    "                lines = file.readlines()\n",
    "\n",
    "                for line in lines:\n",
    "                    line = line.strip().split()\n",
    "                    class_id = int(line[0])\n",
    "                    x_center = float(line[1])\n",
    "                    y_center = float(line[2])\n",
    "                    bbox_width = float(line[3])\n",
    "                    bbox_height = float(line[4])\n",
    "\n",
    "                    x_min = (x_center - bbox_width / 2) * width\n",
    "                    y_min = (y_center - bbox_height / 2) * height\n",
    "                    x_max = (x_center + bbox_width / 2) * width\n",
    "                    y_max = (y_center + bbox_height / 2) * height\n",
    "\n",
    "                    annotation_info = {\n",
    "                        'id': annotation_id,\n",
    "                        'image_id': image_id,\n",
    "                        'category_id': class_id,\n",
    "                        'bbox': [x_min, y_min, x_max - x_min, y_max - y_min],\n",
    "                        'area': (x_max - x_min) * (y_max - y_min),\n",
    "                        'iscrowd': 0\n",
    "                    }\n",
    "\n",
    "                    annotations.append(annotation_info)\n",
    "                    annotation_id += 1\n",
    "\n",
    "    # Create COCO format dictionary\n",
    "    coco_format = {\n",
    "        'images': images,\n",
    "        'annotations': annotations,\n",
    "        'categories': categories\n",
    "    }\n",
    "\n",
    "    # Save to JSON file\n",
    "    with open(output_json_path, 'w') as outfile:\n",
    "        json.dump(coco_format, outfile, indent=4)\n",
    "\n",
    "    print(f\"Conversion completed. COCO format annotations saved to: {output_json_path}\")\n",
    "\n"
   ]
  },
  {
   "cell_type": "code",
   "execution_count": 15,
   "metadata": {},
   "outputs": [
    {
     "name": "stdout",
     "output_type": "stream",
     "text": [
      "Conversion completed. COCO format annotations saved to: C:\\Users\\M\\OneDrive - UGent\\TWML\\datasets\\sthsch_old\\Curated_Old_STHSCH\\valid_\\valid.json\n"
     ]
    }
   ],
   "source": [
    "# Example usage:\n",
    "yolo_annotations_dir = r\"C:\\Users\\M\\OneDrive - UGent\\TWML\\datasets\\sthsch_old\\Curated_Old_STHSCH\\valid_\\labels\"\n",
    "images_dir = r\"C:\\Users\\M\\OneDrive - UGent\\TWML\\datasets\\sthsch_old\\Curated_Old_STHSCH\\valid_\\images\"\n",
    "output_json_path = r\"C:\\Users\\M\\OneDrive - UGent\\TWML\\datasets\\sthsch_old\\Curated_Old_STHSCH\\valid_\\valid.json\"\n",
    "categories = [{'id': 0, 'name': 'ascaris'}, \n",
    "              {'id': 1, 'name': 'trichuris'}, \n",
    "              {'id': 2, 'name': 'hookworm'},\n",
    "              {'id': 3, 'name': 'schistosoma'}]  # Replace with your own categories\n",
    "\n",
    "convert_yolo_to_coco(yolo_annotations_dir, images_dir, output_json_path, categories)\n"
   ]
  },
  {
   "cell_type": "code",
   "execution_count": 16,
   "metadata": {},
   "outputs": [
    {
     "name": "stdout",
     "output_type": "stream",
     "text": [
      "Category ID 0: 1766 objects\n",
      "Category ID 1: 904 objects\n",
      "Category ID 2: 760 objects\n",
      "Category ID 3: 143 objects\n"
     ]
    }
   ],
   "source": [
    "import json\n",
    "\n",
    "# Function to count objects by category ID in COCO format annotations\n",
    "def count_objects_by_category(coco_annotations_path):\n",
    "    # Load COCO annotations JSON file\n",
    "    with open(coco_annotations_path, 'r') as f:\n",
    "        coco_data = json.load(f)\n",
    "\n",
    "    category_counts = {}\n",
    "\n",
    "    # Initialize category counts\n",
    "    for category in coco_data['categories']:\n",
    "        category_counts[category['id']] = 0\n",
    "\n",
    "    # Count objects by category ID\n",
    "    for annotation in coco_data['annotations']:\n",
    "        category_id = annotation['category_id']\n",
    "        category_counts[category_id] += 1\n",
    "\n",
    "    return category_counts\n",
    "\n",
    "# Example usage:\n",
    "coco_annotations_path = r\"C:\\Users\\M\\OneDrive - UGent\\TWML\\datasets\\sthsch_old\\Curated_Old_STHSCH\\valid_\\valid.json\"\n",
    "\n",
    "category_counts = count_objects_by_category(coco_annotations_path)\n",
    "\n",
    "# Print counts\n",
    "for category_id, count in category_counts.items():\n",
    "    print(f\"Category ID {category_id}: {count} objects\")\n"
   ]
  }
 ],
 "metadata": {
  "kernelspec": {
   "display_name": "detectron2",
   "language": "python",
   "name": "python3"
  },
  "language_info": {
   "codemirror_mode": {
    "name": "ipython",
    "version": 3
   },
   "file_extension": ".py",
   "mimetype": "text/x-python",
   "name": "python",
   "nbconvert_exporter": "python",
   "pygments_lexer": "ipython3",
   "version": "3.12.4"
  }
 },
 "nbformat": 4,
 "nbformat_minor": 2
}
