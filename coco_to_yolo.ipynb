{
 "cells": [
  {
   "cell_type": "markdown",
   "metadata": {},
   "source": [
    "## Read JSON file"
   ]
  },
  {
   "cell_type": "code",
   "execution_count": 4,
   "metadata": {},
   "outputs": [
    {
     "data": {
      "text/plain": [
       "dict_keys(['info', 'licenses', 'categories', 'images', 'annotations'])"
      ]
     },
     "execution_count": 4,
     "metadata": {},
     "output_type": "execute_result"
    }
   ],
   "source": [
    "import json\n",
    "\n",
    "# Path to your JSON file\n",
    "file_path = '../datasets/Chula-ParasiteEgg/train/labels.json'\n",
    "\n",
    "# Reading the JSON file\n",
    "with open(file_path, 'r') as file:\n",
    "    data = json.load(file)\n",
    "\n",
    "# Now `data` contains the JSON data as a Python dictionary.\n",
    "data.keys()"
   ]
  },
  {
   "cell_type": "markdown",
   "metadata": {},
   "source": [
    "## Conversion from COCO to YOLO annotations"
   ]
  },
  {
   "cell_type": "code",
   "execution_count": 6,
   "metadata": {},
   "outputs": [
    {
     "name": "stdout",
     "output_type": "stream",
     "text": [
      "Conversion to YOLO format completed.\n"
     ]
    }
   ],
   "source": [
    "import os\n",
    "\n",
    "def coco_to_yolo(coco_bbox, img_width, img_height):\n",
    "    x_min, y_min, width, height = coco_bbox\n",
    "    x_center = x_min + (width / 2)\n",
    "    y_center = y_min + (height / 2)\n",
    "    x_center /= img_width\n",
    "    y_center /= img_height\n",
    "    width /= img_width\n",
    "    height /= img_height\n",
    "    return [x_center, y_center, width, height]\n",
    "\n",
    "# Directory to save the YOLO formatted annotation files\n",
    "output_dir = '../datasets/Chula-ParasiteEgg/train/labels'\n",
    "os.makedirs(output_dir, exist_ok=True)\n",
    "\n",
    "# Create a dictionary mapping image IDs to their dimensions\n",
    "img_dimensions = {img['id']: (img['width'], img['height']) for img in data['images']}\n",
    "\n",
    "# Convert COCO annotations to YOLO format and save to files\n",
    "for annotation in data['annotations']:\n",
    "    img_id = annotation['image_id']\n",
    "    coco_bbox = annotation['bbox']\n",
    "    class_id = annotation['category_id']  # Assuming class_id is directly usable\n",
    "    img_width, img_height = img_dimensions[img_id]\n",
    "    \n",
    "    # Convert COCO bbox to YOLO format\n",
    "    yolo_bbox = coco_to_yolo(coco_bbox, img_width, img_height)\n",
    "    \n",
    "    # Find the corresponding image file name or use the image ID\n",
    "    img_file_name = next((img['file_name'] for img in data['images'] if img['id'] == img_id), str(img_id))\n",
    "    img_file_name_without_ext = os.path.splitext(img_file_name)[0]\n",
    "    \n",
    "    # Open the file in append mode to add the annotation\n",
    "    with open(os.path.join(output_dir, f\"{img_file_name_without_ext}.txt\"), 'a') as file:\n",
    "        # Write the class ID and YOLO formatted bbox to the file\n",
    "        file.write(f\"{class_id} {' '.join(map(str, yolo_bbox))}\\n\")\n",
    "\n",
    "print(\"Conversion to YOLO format completed.\")"
   ]
  },
  {
   "cell_type": "markdown",
   "metadata": {},
   "source": [
    "## Object Counts"
   ]
  },
  {
   "cell_type": "code",
   "execution_count": 9,
   "metadata": {},
   "outputs": [
    {
     "name": "stdout",
     "output_type": "stream",
     "text": [
      "Class ID 0: 907\n",
      "Class ID 1: 900\n",
      "Class ID 2: 900\n",
      "Class ID 3: 900\n",
      "Class ID 4: 909\n",
      "Class ID 5: 900\n",
      "Class ID 6: 901\n",
      "Class ID 7: 900\n",
      "Class ID 8: 900\n",
      "Class ID 9: 907\n",
      "Class ID 10: 900\n"
     ]
    }
   ],
   "source": [
    "import os\n",
    "\n",
    "# Directory containing YOLO formatted annotation files\n",
    "output_dir = '../datasets/Chula-ParasiteEgg/train/labels'\n",
    "\n",
    "# Initialize a dictionary to count occurrences of each class\n",
    "class_counts = {}\n",
    "\n",
    "# Iterate over each file in the output directory\n",
    "for filename in os.listdir(output_dir):\n",
    "    if filename.endswith(\".txt\"):\n",
    "        with open(os.path.join(output_dir, filename), 'r') as file:\n",
    "            for line in file:\n",
    "                class_id = line.split()[0]  # Extract class ID\n",
    "                if class_id in class_counts:\n",
    "                    class_counts[class_id] += 1\n",
    "                else:\n",
    "                    class_counts[class_id] = 1\n",
    "\n",
    "# Print the counts for each class\n",
    "for class_id, count in class_counts.items():\n",
    "    print(f\"Class ID {class_id}: {count}\")"
   ]
  },
  {
   "cell_type": "markdown",
   "metadata": {},
   "source": [
    "## File moving"
   ]
  },
  {
   "cell_type": "code",
   "execution_count": 10,
   "metadata": {},
   "outputs": [],
   "source": [
    "import os\n",
    "import random\n",
    "import shutil\n",
    "\n",
    "# Directories\n",
    "output_dir = '../datasets/Chula-ParasiteEgg/train/labels'\n",
    "image_dir = '../datasets/Chula-ParasiteEgg/train/images'\n",
    "validation_labels_dir = '../datasets/Chula-ParasiteEgg/validation/labels'\n",
    "validation_images_dir = '../datasets/Chula-ParasiteEgg/validation/images'\n",
    "\n",
    "# Ensure validation directories exist\n",
    "os.makedirs(validation_labels_dir, exist_ok=True)\n",
    "os.makedirs(validation_images_dir, exist_ok=True)\n",
    "\n",
    "# Collect files for each class\n",
    "files_by_class = {}\n",
    "for filename in os.listdir(output_dir):\n",
    "    if filename.endswith(\".txt\"):\n",
    "        with open(os.path.join(output_dir, filename), 'r') as file:\n",
    "            class_id = file.readline().split()[0]  # Assuming first line is representative for the file\n",
    "            if class_id not in files_by_class:\n",
    "                files_by_class[class_id] = []\n",
    "            files_by_class[class_id].append(filename)\n",
    "\n",
    "# Randomly select and move files for each class\n",
    "for class_id, files in files_by_class.items():\n",
    "    selected_files = random.sample(files, min(100, len(files)))  # Select up to 100 files or total number of files if less\n",
    "    for filename in selected_files:\n",
    "        # Move label file\n",
    "        shutil.move(os.path.join(output_dir, filename), os.path.join(validation_labels_dir, filename))\n",
    "        \n",
    "        # Assuming image file has same name but different extension (e.g., .jpg)\n",
    "        image_filename = filename.replace('.txt', '.jpg')  # Change extension as needed\n",
    "        shutil.move(os.path.join(image_dir, image_filename), os.path.join(validation_images_dir, image_filename))"
   ]
  }
 ],
 "metadata": {
  "kernelspec": {
   "display_name": "detectron2",
   "language": "python",
   "name": "python3"
  },
  "language_info": {
   "codemirror_mode": {
    "name": "ipython",
    "version": 3
   },
   "file_extension": ".py",
   "mimetype": "text/x-python",
   "name": "python",
   "nbconvert_exporter": "python",
   "pygments_lexer": "ipython3",
   "version": "3.12.4"
  }
 },
 "nbformat": 4,
 "nbformat_minor": 2
}
