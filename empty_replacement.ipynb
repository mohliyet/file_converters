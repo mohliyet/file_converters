{
 "cells": [
  {
   "cell_type": "code",
   "execution_count": null,
   "metadata": {},
   "outputs": [],
   "source": [
    "import os\n",
    "\n",
    "def compare_and_create_empty_files(folder1, folder2):\n",
    "    # Get the list of files in each folder\n",
    "    files1 = set(os.listdir(folder1))\n",
    "    files2 = set(os.listdir(folder2))\n",
    "    \n",
    "    # Find the files present in folder1 but not in folder2\n",
    "    diff_files = files1 - files2\n",
    "    \n",
    "    # Create empty files in folder2 for the different files\n",
    "    for file in diff_files:\n",
    "        with open(os.path.join(folder2, file), 'w'):\n",
    "            pass\n",
    "        print(\"Created empty file:\", os.path.join(folder2, file))\n",
    "\n",
    "# Specify the paths of the two folders to compare\n",
    "folder1_path = r\"C:\\Users\\M\\Documents\\LifeLongLearning\\ai_projects\\datasets\\MS-COCO\\MS-COCO-20\\test\\labels\"\n",
    "folder2_path = r\"C:\\Users\\M\\OneDrive - UGent\\TWML\\yolov7\\runs\\detect\\yolov7-ms-coco-20-test\\labels\"\n",
    "\n",
    "# Call the function to compare folders and create empty files\n",
    "compare_and_create_empty_files(folder1_path, folder2_path)\n",
    "\n",
    "print(\"Comparison and empty file creation complete.\")"
   ]
  }
 ],
 "metadata": {
  "language_info": {
   "name": "python"
  }
 },
 "nbformat": 4,
 "nbformat_minor": 2
}
